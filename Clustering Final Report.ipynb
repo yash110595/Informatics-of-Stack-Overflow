{
 "cells": [
  {
   "cell_type": "markdown",
   "metadata": {},
   "source": [
    "# Clustering"
   ]
  },
  {
   "cell_type": "code",
   "execution_count": 54,
   "metadata": {
    "collapsed": true
   },
   "outputs": [],
   "source": [
    "#Importing Libraries\n",
    "import pandas as pd\n",
    "import numpy as np\n",
    "from sklearn.feature_extraction.text import TfidfVectorizer\n",
    "from sklearn.feature_extraction.text import CountVectorizer\n",
    "from sklearn import metrics\n",
    "from nltk.cluster import KMeansClusterer, cosine_distance\n",
    "from sklearn.feature_extraction.text import CountVectorizer\n",
    "from sklearn.decomposition import LatentDirichletAllocation\n",
    "import matplotlib.cm as cm\n",
    "from sklearn.metrics import silhouette_samples, silhouette_score\n",
    "import matplotlib.pyplot as plt\n",
    "from sklearn.cluster import KMeans\n",
    "from sklearn import metrics\n",
    "from sklearn.metrics import pairwise_distances\n",
    "import seaborn as sns\n",
    "%matplotlib inline"
   ]
  },
  {
   "cell_type": "code",
   "execution_count": 3,
   "metadata": {
    "collapsed": true
   },
   "outputs": [],
   "source": [
    "#Importing data and selecting questions which has answers\n",
    "a = pd.read_excel('Stack_Overflow_Questions_Clean_EDA_Data.xlsx')\n",
    "df = a[a['Answer Count']>0]"
   ]
  },
  {
   "cell_type": "code",
   "execution_count": 4,
   "metadata": {},
   "outputs": [
    {
     "data": {
      "text/html": [
       "<div>\n",
       "<style scoped>\n",
       "    .dataframe tbody tr th:only-of-type {\n",
       "        vertical-align: middle;\n",
       "    }\n",
       "\n",
       "    .dataframe tbody tr th {\n",
       "        vertical-align: top;\n",
       "    }\n",
       "\n",
       "    .dataframe thead th {\n",
       "        text-align: right;\n",
       "    }\n",
       "</style>\n",
       "<table border=\"1\" class=\"dataframe\">\n",
       "  <thead>\n",
       "    <tr style=\"text-align: right;\">\n",
       "      <th></th>\n",
       "      <th>Question Id</th>\n",
       "      <th>Votes</th>\n",
       "      <th>Answer Count</th>\n",
       "      <th>Views</th>\n",
       "      <th>Question</th>\n",
       "      <th>QDescription</th>\n",
       "      <th>User</th>\n",
       "      <th>Reputation Score</th>\n",
       "      <th>Gold Badge Count</th>\n",
       "      <th>Silver Badge Count</th>\n",
       "      <th>Bronze Badge Count</th>\n",
       "      <th>Tags</th>\n",
       "      <th>QDescription length</th>\n",
       "    </tr>\n",
       "  </thead>\n",
       "  <tbody>\n",
       "    <tr>\n",
       "      <th>13</th>\n",
       "      <td>49369729</td>\n",
       "      <td>1</td>\n",
       "      <td>1</td>\n",
       "      <td>14</td>\n",
       "      <td>Challenges with ReadTheDocs</td>\n",
       "      <td>I've been tasked with hosting our Python API d...</td>\n",
       "      <td>Robert_LY</td>\n",
       "      <td>75</td>\n",
       "      <td>0</td>\n",
       "      <td>0</td>\n",
       "      <td>8</td>\n",
       "      <td>python documentation read-the-docs</td>\n",
       "      <td>203</td>\n",
       "    </tr>\n",
       "    <tr>\n",
       "      <th>16</th>\n",
       "      <td>49369657</td>\n",
       "      <td>1</td>\n",
       "      <td>1</td>\n",
       "      <td>19</td>\n",
       "      <td>From Python to R - DataFrame from string</td>\n",
       "      <td>I have the following working example in Python...</td>\n",
       "      <td>Jan</td>\n",
       "      <td>20700</td>\n",
       "      <td>5</td>\n",
       "      <td>5</td>\n",
       "      <td>5</td>\n",
       "      <td>python r regex</td>\n",
       "      <td>204</td>\n",
       "    </tr>\n",
       "    <tr>\n",
       "      <th>23</th>\n",
       "      <td>49369594</td>\n",
       "      <td>0</td>\n",
       "      <td>1</td>\n",
       "      <td>15</td>\n",
       "      <td>n-depth tree: set parent value based on childr...</td>\n",
       "      <td>In a n-depth dict where values are set in the ...</td>\n",
       "      <td>TMichel</td>\n",
       "      <td>1472</td>\n",
       "      <td>3</td>\n",
       "      <td>3</td>\n",
       "      <td>3</td>\n",
       "      <td>python</td>\n",
       "      <td>204</td>\n",
       "    </tr>\n",
       "    <tr>\n",
       "      <th>25</th>\n",
       "      <td>49369548</td>\n",
       "      <td>-2</td>\n",
       "      <td>3</td>\n",
       "      <td>34</td>\n",
       "      <td>Invalid syntax Sum += 1</td>\n",
       "      <td>It says I have invalid syntax at Sum += 1. If ...</td>\n",
       "      <td>jennie saldana</td>\n",
       "      <td>1</td>\n",
       "      <td>0</td>\n",
       "      <td>0</td>\n",
       "      <td>3</td>\n",
       "      <td>python list int</td>\n",
       "      <td>203</td>\n",
       "    </tr>\n",
       "    <tr>\n",
       "      <th>27</th>\n",
       "      <td>49369523</td>\n",
       "      <td>0</td>\n",
       "      <td>1</td>\n",
       "      <td>16</td>\n",
       "      <td>OSError: [Errno 22] Invalid argument: (Read fi...</td>\n",
       "      <td>I have a geojson file stored on my laptop and ...</td>\n",
       "      <td>otteheng</td>\n",
       "      <td>271</td>\n",
       "      <td>0</td>\n",
       "      <td>2</td>\n",
       "      <td>2</td>\n",
       "      <td>python</td>\n",
       "      <td>204</td>\n",
       "    </tr>\n",
       "  </tbody>\n",
       "</table>\n",
       "</div>"
      ],
      "text/plain": [
       "    Question Id  Votes  Answer Count  Views  \\\n",
       "13     49369729      1             1     14   \n",
       "16     49369657      1             1     19   \n",
       "23     49369594      0             1     15   \n",
       "25     49369548     -2             3     34   \n",
       "27     49369523      0             1     16   \n",
       "\n",
       "                                             Question  \\\n",
       "13                        Challenges with ReadTheDocs   \n",
       "16           From Python to R - DataFrame from string   \n",
       "23  n-depth tree: set parent value based on childr...   \n",
       "25                            Invalid syntax Sum += 1   \n",
       "27  OSError: [Errno 22] Invalid argument: (Read fi...   \n",
       "\n",
       "                                         QDescription            User  \\\n",
       "13  I've been tasked with hosting our Python API d...       Robert_LY   \n",
       "16  I have the following working example in Python...             Jan   \n",
       "23  In a n-depth dict where values are set in the ...         TMichel   \n",
       "25  It says I have invalid syntax at Sum += 1. If ...  jennie saldana   \n",
       "27  I have a geojson file stored on my laptop and ...        otteheng   \n",
       "\n",
       "    Reputation Score  Gold Badge Count  Silver Badge Count  \\\n",
       "13                75                 0                   0   \n",
       "16             20700                 5                   5   \n",
       "23              1472                 3                   3   \n",
       "25                 1                 0                   0   \n",
       "27               271                 0                   2   \n",
       "\n",
       "    Bronze Badge Count                                Tags  \\\n",
       "13                   8  python documentation read-the-docs   \n",
       "16                   5                      python r regex   \n",
       "23                   3                              python   \n",
       "25                   3                     python list int   \n",
       "27                   2                              python   \n",
       "\n",
       "    QDescription length  \n",
       "13                  203  \n",
       "16                  204  \n",
       "23                  204  \n",
       "25                  203  \n",
       "27                  204  "
      ]
     },
     "execution_count": 4,
     "metadata": {},
     "output_type": "execute_result"
    }
   ],
   "source": [
    "#Checking the data \n",
    "df.head()"
   ]
  },
  {
   "cell_type": "code",
   "execution_count": 11,
   "metadata": {},
   "outputs": [
    {
     "data": {
      "text/plain": [
       "\"I've been tasked with hosting our Python API docs for our customers to access.  ReadTheDocs.com was recommended by a colleague.  However, I've had some challenges with it:\\r\\nThe default approach is to ...\""
      ]
     },
     "execution_count": 11,
     "metadata": {},
     "output_type": "execute_result"
    }
   ],
   "source": [
    "#Creating text data \n",
    "text = list(df['QDescription'])\n",
    "text[0]"
   ]
  },
  {
   "cell_type": "code",
   "execution_count": 31,
   "metadata": {},
   "outputs": [
    {
     "data": {
      "text/html": [
       "<div>\n",
       "<style scoped>\n",
       "    .dataframe tbody tr th:only-of-type {\n",
       "        vertical-align: middle;\n",
       "    }\n",
       "\n",
       "    .dataframe tbody tr th {\n",
       "        vertical-align: top;\n",
       "    }\n",
       "\n",
       "    .dataframe thead th {\n",
       "        text-align: right;\n",
       "    }\n",
       "</style>\n",
       "<table border=\"1\" class=\"dataframe\">\n",
       "  <thead>\n",
       "    <tr style=\"text-align: right;\">\n",
       "      <th></th>\n",
       "      <th>Question Id</th>\n",
       "      <th>Votes</th>\n",
       "      <th>Answer Count</th>\n",
       "      <th>Views</th>\n",
       "      <th>Question</th>\n",
       "      <th>QDescription</th>\n",
       "      <th>User</th>\n",
       "      <th>Reputation Score</th>\n",
       "      <th>Gold Badge Count</th>\n",
       "      <th>Silver Badge Count</th>\n",
       "      <th>Bronze Badge Count</th>\n",
       "      <th>Tags</th>\n",
       "      <th>QDescription length</th>\n",
       "    </tr>\n",
       "  </thead>\n",
       "  <tbody>\n",
       "    <tr>\n",
       "      <th>13</th>\n",
       "      <td>49369729</td>\n",
       "      <td>1</td>\n",
       "      <td>1</td>\n",
       "      <td>14</td>\n",
       "      <td>Challenges with ReadTheDocs</td>\n",
       "      <td>I've been tasked with hosting our Python API d...</td>\n",
       "      <td>Robert_LY</td>\n",
       "      <td>75</td>\n",
       "      <td>0</td>\n",
       "      <td>0</td>\n",
       "      <td>8</td>\n",
       "      <td>python documentation read-the-docs</td>\n",
       "      <td>203</td>\n",
       "    </tr>\n",
       "  </tbody>\n",
       "</table>\n",
       "</div>"
      ],
      "text/plain": [
       "    Question Id  Votes  Answer Count  Views                     Question  \\\n",
       "13     49369729      1             1     14  Challenges with ReadTheDocs   \n",
       "\n",
       "                                         QDescription       User  \\\n",
       "13  I've been tasked with hosting our Python API d...  Robert_LY   \n",
       "\n",
       "    Reputation Score  Gold Badge Count  Silver Badge Count  \\\n",
       "13                75                 0                   0   \n",
       "\n",
       "    Bronze Badge Count                                Tags  \\\n",
       "13                   8  python documentation read-the-docs   \n",
       "\n",
       "    QDescription length  \n",
       "13                  203  "
      ]
     },
     "execution_count": 31,
     "metadata": {},
     "output_type": "execute_result"
    }
   ],
   "source": [
    "#Importing Sample Data Created - 1000 Rows which has Manually Labels Assigned\n",
    "b = pd.read_excel('Sample_Data_1000.xlsx') # Questions\n",
    "c = pd.read_excel('Clusters_1000.xlsx') # Labels\n",
    "b.head(1)"
   ]
  },
  {
   "cell_type": "code",
   "execution_count": 33,
   "metadata": {},
   "outputs": [
    {
     "data": {
      "text/html": [
       "<div>\n",
       "<style scoped>\n",
       "    .dataframe tbody tr th:only-of-type {\n",
       "        vertical-align: middle;\n",
       "    }\n",
       "\n",
       "    .dataframe tbody tr th {\n",
       "        vertical-align: top;\n",
       "    }\n",
       "\n",
       "    .dataframe thead th {\n",
       "        text-align: right;\n",
       "    }\n",
       "</style>\n",
       "<table border=\"1\" class=\"dataframe\">\n",
       "  <thead>\n",
       "    <tr style=\"text-align: right;\">\n",
       "      <th></th>\n",
       "      <th>Tags</th>\n",
       "      <th>Labels</th>\n",
       "    </tr>\n",
       "  </thead>\n",
       "  <tbody>\n",
       "    <tr>\n",
       "      <th>0</th>\n",
       "      <td>python documentation read-the-docs</td>\n",
       "      <td>Python</td>\n",
       "    </tr>\n",
       "  </tbody>\n",
       "</table>\n",
       "</div>"
      ],
      "text/plain": [
       "                                 Tags  Labels\n",
       "0  python documentation read-the-docs  Python"
      ]
     },
     "execution_count": 33,
     "metadata": {},
     "output_type": "execute_result"
    }
   ],
   "source": [
    "c.head(1)"
   ]
  },
  {
   "cell_type": "code",
   "execution_count": 36,
   "metadata": {
    "collapsed": true
   },
   "outputs": [],
   "source": [
    "#Creating text and target data required for External Evaluation on Sample Data\n",
    "target1=list(c['Labels'])\n",
    "text1 = list(b['QDescription'])"
   ]
  },
  {
   "cell_type": "markdown",
   "metadata": {},
   "source": [
    "# Generating TF_IDF for Text Data"
   ]
  },
  {
   "cell_type": "code",
   "execution_count": 35,
   "metadata": {},
   "outputs": [
    {
     "name": "stdout",
     "output_type": "stream",
     "text": [
      "Original Data (5698, 2329)\n",
      "\n",
      "Sample Data (1000, 586)\n"
     ]
    }
   ],
   "source": [
    "from sklearn.feature_extraction.text import TfidfVectorizer\n",
    "\n",
    "# initialize the TfidfVectorizer \n",
    "# set min document frequency to 5\n",
    "\n",
    "tfidf_vect = TfidfVectorizer(stop_words=\"english\",\\\n",
    "                             min_df=5) \n",
    "\n",
    "# generate tfidf matrix for text\n",
    "dtm= tfidf_vect.fit_transform(text)\n",
    "print('Original Data',dtm.shape)\n",
    "dtm.toarray()\n",
    "\n",
    "# generate tfidf matrix for text1\n",
    "dtm1= tfidf_vect.fit_transform(text1)\n",
    "print('\\nSample Data',dtm1.shape)\n",
    "#dtm1.toarray()"
   ]
  },
  {
   "cell_type": "markdown",
   "metadata": {},
   "source": [
    "# PCA for Internal Evaluation"
   ]
  },
  {
   "cell_type": "code",
   "execution_count": 18,
   "metadata": {
    "collapsed": true
   },
   "outputs": [],
   "source": [
    "from sklearn.decomposition import PCA\n",
    "pca = PCA(n_components=2).fit(dtm.toarray())\n",
    "data2D = pca.transform(dtm.toarray())"
   ]
  },
  {
   "cell_type": "markdown",
   "metadata": {},
   "source": [
    "# Clustering Models\n",
    "1) Hierarchical Clustering\n",
    "2) k-Means Clustering\n",
    "3) LDA (Latent Dirichlet Allocation) Clustering\n"
   ]
  },
  {
   "cell_type": "markdown",
   "metadata": {},
   "source": [
    "# Hierarchial Clustering"
   ]
  },
  {
   "cell_type": "code",
   "execution_count": 15,
   "metadata": {
    "collapsed": true
   },
   "outputs": [],
   "source": [
    "# Internal Evaluation"
   ]
  },
  {
   "cell_type": "code",
   "execution_count": 16,
   "metadata": {},
   "outputs": [
    {
     "data": {
      "image/png": "[encoded data removed]",
      "text/plain": [
       "<matplotlib.figure.Figure at 0x2551425f438>"
      ]
     },
     "metadata": {},
     "output_type": "display_data"
    }
   ],
   "source": [
    "#Hierarchical clustering\n",
    "\n",
    "from scipy.cluster.hierarchy import linkage,dendrogram\n",
    "import matplotlib.pyplot as plt\n",
    "%matplotlib inline \n",
    "\n",
    "from sklearn.metrics.pairwise import cosine_similarity\n",
    "\n",
    "# distance between any pair of documents\n",
    "dist = 1 - cosine_similarity(dtm)\n",
    "\n",
    "# create a linkage matrix using ward's method\n",
    "# the linkage matrix contains the dendragram data\n",
    "# in ward methods, the distance between two clusters\n",
    "# is measured as the sum of distance \n",
    "# from each sample to the cluster center \n",
    "\n",
    "#linkage_matrix = average(dist)\n",
    "linkage_matrix = linkage(dist, method='ward')\n",
    "\n",
    "# plot the dendrogram\n",
    "fig, ax = plt.subplots(figsize=(15, 20)) # set size\n",
    "ax = dendrogram(linkage_matrix, orientation=\"top\");\n",
    "\n",
    "plt.tick_params(\\\n",
    "    axis= 'x',          # changes apply to the x-axis\n",
    "    which='both',      # both major and minor ticks are affected\n",
    "    bottom='off',      # ticks along the bottom edge are off\n",
    "    top='off',         # ticks along the top edge are off\n",
    "    labelbottom='off')\n",
    "\n",
    "plt.tight_layout() #show plot with tight layout"
   ]
  },
  {
   "cell_type": "code",
   "execution_count": 17,
   "metadata": {
    "collapsed": true
   },
   "outputs": [],
   "source": [
    "# Exercise 6.2 Get Clusters\n",
    "\n",
    "from scipy.cluster.hierarchy import cut_tree\n",
    "\n",
    "clusters = cut_tree(linkage_matrix,height=25)\n",
    "clusters=clusters.flatten().tolist()\n",
    "\n"
   ]
  },
  {
   "cell_type": "code",
   "execution_count": 19,
   "metadata": {
    "collapsed": true
   },
   "outputs": [],
   "source": [
    "# Internal Evaluation Co-Efficients"
   ]
  },
  {
   "cell_type": "code",
   "execution_count": 20,
   "metadata": {},
   "outputs": [
    {
     "name": "stdout",
     "output_type": "stream",
     "text": [
      "Silhouette Co-efficient for Hierarchial Clustering\n",
      "-0.00793450533481\n"
     ]
    }
   ],
   "source": [
    "print('Silhouette Co-efficient for Hierarchial Clustering')\n",
    "print(metrics.silhouette_score(data2D, clusters))"
   ]
  },
  {
   "cell_type": "code",
   "execution_count": 21,
   "metadata": {},
   "outputs": [
    {
     "name": "stdout",
     "output_type": "stream",
     "text": [
      "Calinski-Harabaz Index for Hierarchial Clustering\n",
      "720.41828936\n"
     ]
    }
   ],
   "source": [
    "print('Calinski-Harabaz Index for Hierarchial Clustering')\n",
    "print(metrics.calinski_harabaz_score(data2D, clusters))"
   ]
  },
  {
   "cell_type": "code",
   "execution_count": 23,
   "metadata": {},
   "outputs": [
    {
     "data": {
      "text/plain": [
       "<matplotlib.axes._subplots.AxesSubplot at 0x2551b8ae470>"
      ]
     },
     "execution_count": 23,
     "metadata": {},
     "output_type": "execute_result"
    },
    {
     "data": {
      "image/png": "[encoded data removed]",
      "text/plain": [
       "<matplotlib.figure.Figure at 0x25515bbfc18>"
      ]
     },
     "metadata": {},
     "output_type": "display_data"
    }
   ],
   "source": [
    "sns.set(style=\"darkgrid\")\n",
    "sns.countplot(x=clusters)"
   ]
  },
  {
   "cell_type": "code",
   "execution_count": 24,
   "metadata": {
    "collapsed": true
   },
   "outputs": [],
   "source": [
    "# Through Internal Evaluation, both the Co-efficient value for Hierarchial Clustering is okay.\n",
    "# And the clusters formed are quite imbalanced."
   ]
  },
  {
   "cell_type": "code",
   "execution_count": 25,
   "metadata": {
    "collapsed": true
   },
   "outputs": [],
   "source": [
    "# External Evaluation"
   ]
  },
  {
   "cell_type": "code",
   "execution_count": 39,
   "metadata": {},
   "outputs": [
    {
     "data": {
      "image/png": "[encoded data removed]",
      "text/plain": [
       "<matplotlib.figure.Figure at 0x2551951dbe0>"
      ]
     },
     "metadata": {},
     "output_type": "display_data"
    }
   ],
   "source": [
    "# Exercise 6.1 Hierarchical clustering\n",
    "\n",
    "from scipy.cluster.hierarchy import linkage,dendrogram\n",
    "import matplotlib.pyplot as plt\n",
    "%matplotlib inline \n",
    "\n",
    "from sklearn.metrics.pairwise import cosine_similarity\n",
    "\n",
    "# distance between any pair of documents\n",
    "dist = 1 - cosine_similarity(dtm1)\n",
    "\n",
    "# create a linkage matrix using ward's method\n",
    "# the linkage matrix contains the dendragram data\n",
    "# in ward methods, the distance between two clusters\n",
    "# is measured as the sum of distance \n",
    "# from each sample to the cluster center \n",
    "\n",
    "#linkage_matrix = average(dist)\n",
    "linkage_matrix = linkage(dist, method='ward')\n",
    "\n",
    "# plot the dendrogram\n",
    "fig, ax = plt.subplots(figsize=(6, 8)) # set size\n",
    "ax = dendrogram(linkage_matrix, orientation=\"top\");\n",
    "\n",
    "plt.tick_params(\\\n",
    "    axis= 'x',          # changes apply to the x-axis\n",
    "    which='both',      # both major and minor ticks are affected\n",
    "    bottom='off',      # ticks along the bottom edge are off\n",
    "    top='off',         # ticks along the top edge are off\n",
    "    labelbottom='off')\n",
    "\n",
    "plt.tight_layout() #show plot with tight layout\n",
    "\n"
   ]
  },
  {
   "cell_type": "code",
   "execution_count": 40,
   "metadata": {},
   "outputs": [
    {
     "data": {
      "text/html": [
       "<div>\n",
       "<style scoped>\n",
       "    .dataframe tbody tr th:only-of-type {\n",
       "        vertical-align: middle;\n",
       "    }\n",
       "\n",
       "    .dataframe tbody tr th {\n",
       "        vertical-align: top;\n",
       "    }\n",
       "\n",
       "    .dataframe thead th {\n",
       "        text-align: right;\n",
       "    }\n",
       "</style>\n",
       "<table border=\"1\" class=\"dataframe\">\n",
       "  <thead>\n",
       "    <tr style=\"text-align: right;\">\n",
       "      <th>actual_class</th>\n",
       "      <th>Class</th>\n",
       "      <th>Data Structure</th>\n",
       "      <th>File Handling</th>\n",
       "      <th>Machine Learning</th>\n",
       "      <th>Python</th>\n",
       "      <th>Web Scraping</th>\n",
       "    </tr>\n",
       "    <tr>\n",
       "      <th>cluster</th>\n",
       "      <th></th>\n",
       "      <th></th>\n",
       "      <th></th>\n",
       "      <th></th>\n",
       "      <th></th>\n",
       "      <th></th>\n",
       "    </tr>\n",
       "  </thead>\n",
       "  <tbody>\n",
       "    <tr>\n",
       "      <th>0</th>\n",
       "      <td>61</td>\n",
       "      <td>47</td>\n",
       "      <td>100</td>\n",
       "      <td>95</td>\n",
       "      <td>153</td>\n",
       "      <td>109</td>\n",
       "    </tr>\n",
       "    <tr>\n",
       "      <th>1</th>\n",
       "      <td>12</td>\n",
       "      <td>6</td>\n",
       "      <td>10</td>\n",
       "      <td>7</td>\n",
       "      <td>44</td>\n",
       "      <td>16</td>\n",
       "    </tr>\n",
       "    <tr>\n",
       "      <th>2</th>\n",
       "      <td>25</td>\n",
       "      <td>54</td>\n",
       "      <td>13</td>\n",
       "      <td>15</td>\n",
       "      <td>5</td>\n",
       "      <td>8</td>\n",
       "    </tr>\n",
       "    <tr>\n",
       "      <th>3</th>\n",
       "      <td>7</td>\n",
       "      <td>8</td>\n",
       "      <td>20</td>\n",
       "      <td>37</td>\n",
       "      <td>24</td>\n",
       "      <td>34</td>\n",
       "    </tr>\n",
       "    <tr>\n",
       "      <th>4</th>\n",
       "      <td>0</td>\n",
       "      <td>15</td>\n",
       "      <td>1</td>\n",
       "      <td>5</td>\n",
       "      <td>8</td>\n",
       "      <td>8</td>\n",
       "    </tr>\n",
       "    <tr>\n",
       "      <th>5</th>\n",
       "      <td>0</td>\n",
       "      <td>2</td>\n",
       "      <td>0</td>\n",
       "      <td>15</td>\n",
       "      <td>2</td>\n",
       "      <td>0</td>\n",
       "    </tr>\n",
       "    <tr>\n",
       "      <th>6</th>\n",
       "      <td>5</td>\n",
       "      <td>4</td>\n",
       "      <td>0</td>\n",
       "      <td>17</td>\n",
       "      <td>6</td>\n",
       "      <td>2</td>\n",
       "    </tr>\n",
       "  </tbody>\n",
       "</table>\n",
       "</div>"
      ],
      "text/plain": [
       "actual_class  Class  Data Structure  File Handling  Machine Learning  Python  \\\n",
       "cluster                                                                        \n",
       "0                61              47            100                95     153   \n",
       "1                12               6             10                 7      44   \n",
       "2                25              54             13                15       5   \n",
       "3                 7               8             20                37      24   \n",
       "4                 0              15              1                 5       8   \n",
       "5                 0               2              0                15       2   \n",
       "6                 5               4              0                17       6   \n",
       "\n",
       "actual_class  Web Scraping  \n",
       "cluster                     \n",
       "0                      109  \n",
       "1                       16  \n",
       "2                        8  \n",
       "3                       34  \n",
       "4                        8  \n",
       "5                        0  \n",
       "6                        2  "
      ]
     },
     "execution_count": 40,
     "metadata": {},
     "output_type": "execute_result"
    }
   ],
   "source": [
    "# Exercise 6.2 Get Clusters\n",
    "\n",
    "from scipy.cluster.hierarchy import cut_tree\n",
    "\n",
    "clusters = cut_tree(linkage_matrix,height=10.5)\n",
    "clusters=clusters.flatten().tolist()\n",
    "\n",
    "# get documents from each clusters and examine the clusters\n",
    "\n",
    "df=pd.DataFrame(list(zip(target1, clusters)), \\\n",
    "                columns=['actual_class','cluster'])\n",
    "\n",
    "pd.crosstab( index=df.cluster, columns=df.actual_class)"
   ]
  },
  {
   "cell_type": "code",
   "execution_count": 41,
   "metadata": {},
   "outputs": [
    {
     "data": {
      "text/plain": [
       "<matplotlib.axes._subplots.AxesSubplot at 0x2551b7f74e0>"
      ]
     },
     "execution_count": 41,
     "metadata": {},
     "output_type": "execute_result"
    },
    {
     "data": {
      "image/png": "[encoded data removed]",
      "text/plain": [
       "<matplotlib.figure.Figure at 0x255195a9400>"
      ]
     },
     "metadata": {},
     "output_type": "display_data"
    }
   ],
   "source": [
    "sns.set(style=\"darkgrid\")\n",
    "sns.countplot(x=clusters)"
   ]
  },
  {
   "cell_type": "markdown",
   "metadata": {},
   "source": [
    "As we can see from the cross tab and count plot, we cannot identify topics for each cluster.\n",
    "\n",
    "Cluster 1 contains maximum number of questions and the rest of the clusters have few questions.\n",
    "\n",
    "Since the clusters assigned are quite imbalance and there is no majority , we are not able to assign questions to clusters.\n",
    "\n",
    "Thus, we are not able to calculate precision or classification report for Hierarchial Clustering.\n"
   ]
  },
  {
   "cell_type": "markdown",
   "metadata": {},
   "source": [
    "# K Means"
   ]
  },
  {
   "cell_type": "code",
   "execution_count": 42,
   "metadata": {
    "collapsed": true
   },
   "outputs": [],
   "source": [
    "#Internal Evaluation"
   ]
  },
  {
   "cell_type": "code",
   "execution_count": 44,
   "metadata": {
    "collapsed": true
   },
   "outputs": [],
   "source": [
    "num_clusters = 10\n",
    "km = KMeans(n_clusters=num_clusters,\n",
    "            n_init=100,                        # number of iterations with different seeds\n",
    "            random_state=1                    # fixes the seed \n",
    "           )\n",
    "\n",
    "cluster_labels = km.fit_predict(data2D)\n",
    "\n",
    "# The silhouette_score gives the average value for all the samples.\n",
    "# This gives a perspective into the density and separation of the formed\n",
    "# clusters\n"
   ]
  },
  {
   "cell_type": "code",
   "execution_count": 45,
   "metadata": {},
   "outputs": [
    {
     "name": "stdout",
     "output_type": "stream",
     "text": [
      "0.359638257509\n"
     ]
    }
   ],
   "source": [
    "# The silhouette_score gives the average value for all the samples.\n",
    "# This gives a perspective into the density and separation of the formed\n",
    "# clusters\n",
    "silhouette_avg = silhouette_score(data2D, cluster_labels)\n",
    "print(silhouette_avg)"
   ]
  },
  {
   "cell_type": "code",
   "execution_count": 46,
   "metadata": {},
   "outputs": [
    {
     "name": "stdout",
     "output_type": "stream",
     "text": [
      "4188.69355339\n"
     ]
    }
   ],
   "source": [
    "calinski_harabaz = metrics.calinski_harabaz_score(data2D, cluster_labels)\n",
    "print(calinski_harabaz)"
   ]
  },
  {
   "cell_type": "code",
   "execution_count": 47,
   "metadata": {},
   "outputs": [
    {
     "data": {
      "text/plain": [
       "<matplotlib.axes._subplots.AxesSubplot at 0x255154ade10>"
      ]
     },
     "execution_count": 47,
     "metadata": {},
     "output_type": "execute_result"
    },
    {
     "data": {
      "image/png": "[encoded data removed]",
      "text/plain": [
       "<matplotlib.figure.Figure at 0x25519430320>"
      ]
     },
     "metadata": {},
     "output_type": "display_data"
    }
   ],
   "source": [
    "sns.set(style=\"darkgrid\")\n",
    "sns.countplot(x=cluster_labels)"
   ]
  },
  {
   "cell_type": "code",
   "execution_count": 48,
   "metadata": {
    "collapsed": true
   },
   "outputs": [],
   "source": [
    "# Through Internal Evaluation, both the Co-efficient value for K-Means is Good.\n",
    "# And the clusters formed are okay."
   ]
  },
  {
   "cell_type": "code",
   "execution_count": 49,
   "metadata": {
    "collapsed": true
   },
   "outputs": [],
   "source": [
    "#External Evaluation"
   ]
  },
  {
   "cell_type": "code",
   "execution_count": 50,
   "metadata": {
    "collapsed": true
   },
   "outputs": [],
   "source": [
    "num_clusters = 6\n",
    "km = KMeans(n_clusters=num_clusters,\n",
    "            n_init=100,                        # number of iterations with different seeds\n",
    "            random_state=1                    # fixes the seed \n",
    "           )\n",
    "\n",
    "cluster_labels = km.fit_predict(data2D)"
   ]
  },
  {
   "cell_type": "code",
   "execution_count": 51,
   "metadata": {},
   "outputs": [
    {
     "data": {
      "text/html": [
       "<div>\n",
       "<style scoped>\n",
       "    .dataframe tbody tr th:only-of-type {\n",
       "        vertical-align: middle;\n",
       "    }\n",
       "\n",
       "    .dataframe tbody tr th {\n",
       "        vertical-align: top;\n",
       "    }\n",
       "\n",
       "    .dataframe thead th {\n",
       "        text-align: right;\n",
       "    }\n",
       "</style>\n",
       "<table border=\"1\" class=\"dataframe\">\n",
       "  <thead>\n",
       "    <tr style=\"text-align: right;\">\n",
       "      <th>actual_class</th>\n",
       "      <th>Class</th>\n",
       "      <th>Data Structure</th>\n",
       "      <th>File Handling</th>\n",
       "      <th>Machine Learning</th>\n",
       "      <th>Python</th>\n",
       "      <th>Web Scraping</th>\n",
       "    </tr>\n",
       "    <tr>\n",
       "      <th>cluster</th>\n",
       "      <th></th>\n",
       "      <th></th>\n",
       "      <th></th>\n",
       "      <th></th>\n",
       "      <th></th>\n",
       "      <th></th>\n",
       "    </tr>\n",
       "  </thead>\n",
       "  <tbody>\n",
       "    <tr>\n",
       "      <th>0</th>\n",
       "      <td>12</td>\n",
       "      <td>13</td>\n",
       "      <td>11</td>\n",
       "      <td>13</td>\n",
       "      <td>23</td>\n",
       "      <td>17</td>\n",
       "    </tr>\n",
       "    <tr>\n",
       "      <th>1</th>\n",
       "      <td>21</td>\n",
       "      <td>21</td>\n",
       "      <td>19</td>\n",
       "      <td>27</td>\n",
       "      <td>37</td>\n",
       "      <td>27</td>\n",
       "    </tr>\n",
       "    <tr>\n",
       "      <th>2</th>\n",
       "      <td>27</td>\n",
       "      <td>30</td>\n",
       "      <td>31</td>\n",
       "      <td>45</td>\n",
       "      <td>65</td>\n",
       "      <td>36</td>\n",
       "    </tr>\n",
       "    <tr>\n",
       "      <th>3</th>\n",
       "      <td>3</td>\n",
       "      <td>4</td>\n",
       "      <td>3</td>\n",
       "      <td>9</td>\n",
       "      <td>5</td>\n",
       "      <td>3</td>\n",
       "    </tr>\n",
       "    <tr>\n",
       "      <th>4</th>\n",
       "      <td>37</td>\n",
       "      <td>57</td>\n",
       "      <td>68</td>\n",
       "      <td>84</td>\n",
       "      <td>98</td>\n",
       "      <td>83</td>\n",
       "    </tr>\n",
       "    <tr>\n",
       "      <th>5</th>\n",
       "      <td>10</td>\n",
       "      <td>11</td>\n",
       "      <td>12</td>\n",
       "      <td>13</td>\n",
       "      <td>14</td>\n",
       "      <td>11</td>\n",
       "    </tr>\n",
       "  </tbody>\n",
       "</table>\n",
       "</div>"
      ],
      "text/plain": [
       "actual_class  Class  Data Structure  File Handling  Machine Learning  Python  \\\n",
       "cluster                                                                        \n",
       "0                12              13             11                13      23   \n",
       "1                21              21             19                27      37   \n",
       "2                27              30             31                45      65   \n",
       "3                 3               4              3                 9       5   \n",
       "4                37              57             68                84      98   \n",
       "5                10              11             12                13      14   \n",
       "\n",
       "actual_class  Web Scraping  \n",
       "cluster                     \n",
       "0                       17  \n",
       "1                       27  \n",
       "2                       36  \n",
       "3                        3  \n",
       "4                       83  \n",
       "5                       11  "
      ]
     },
     "execution_count": 51,
     "metadata": {},
     "output_type": "execute_result"
    }
   ],
   "source": [
    "df=pd.DataFrame(list(zip(target1, cluster_labels)), \\\n",
    "                columns=['actual_class','cluster'])\n",
    "\n",
    "pd.crosstab( index=df.cluster, columns=df.actual_class)"
   ]
  },
  {
   "cell_type": "code",
   "execution_count": 52,
   "metadata": {},
   "outputs": [
    {
     "data": {
      "text/plain": [
       "<matplotlib.axes._subplots.AxesSubplot at 0x255150e5ba8>"
      ]
     },
     "execution_count": 52,
     "metadata": {},
     "output_type": "execute_result"
    },
    {
     "data": {
      "image/png": "[encoded data removed]",
      "text/plain": [
       "<matplotlib.figure.Figure at 0x255150d26d8>"
      ]
     },
     "metadata": {},
     "output_type": "display_data"
    }
   ],
   "source": [
    "sns.set(style=\"darkgrid\")\n",
    "sns.countplot(x=cluster_labels)"
   ]
  },
  {
   "attachments": {},
   "cell_type": "markdown",
   "metadata": {},
   "source": [
    "As we can see from the cross tab and count plot, we cannot identify topics for each cluster.\n",
    "\n",
    "Cluster 4 contains maximum number of questions and the rest of the clusters have few questions.\n",
    "\n",
    "Since the clusters assigned are quite imbalance and there is no majority , we are not able to assign questions to clusters.\n",
    "\n",
    "Thus, we are not able to calculate precision or classification report for k-Means.\n"
   ]
  },
  {
   "cell_type": "markdown",
   "metadata": {},
   "source": [
    "# LDA"
   ]
  },
  {
   "cell_type": "code",
   "execution_count": 55,
   "metadata": {
    "collapsed": true
   },
   "outputs": [],
   "source": [
    "# Using CountVectorizer to create TF_IDF for LDA Model"
   ]
  },
  {
   "cell_type": "code",
   "execution_count": 56,
   "metadata": {
    "collapsed": true
   },
   "outputs": [],
   "source": [
    "# Internal Evaluation"
   ]
  },
  {
   "cell_type": "code",
   "execution_count": 57,
   "metadata": {
    "collapsed": true
   },
   "outputs": [],
   "source": [
    "tf_vectorizer = CountVectorizer(min_df=5, stop_words='english')\n",
    "tf = tf_vectorizer.fit_transform(text)\n",
    "\n",
    "tf_feature_names = tf_vectorizer.get_feature_names()"
   ]
  },
  {
   "cell_type": "code",
   "execution_count": 58,
   "metadata": {},
   "outputs": [
    {
     "name": "stdout",
     "output_type": "stream",
     "text": [
      "iteration: 1 of max_iter: 50, perplexity: 1384.6069\n",
      "iteration: 2 of max_iter: 50, perplexity: 1245.5682\n",
      "iteration: 3 of max_iter: 50, perplexity: 1156.2105\n",
      "iteration: 4 of max_iter: 50, perplexity: 1094.6956\n",
      "iteration: 5 of max_iter: 50, perplexity: 1049.4683\n",
      "iteration: 6 of max_iter: 50, perplexity: 1015.9801\n",
      "iteration: 7 of max_iter: 50, perplexity: 993.2073\n",
      "iteration: 8 of max_iter: 50, perplexity: 975.9708\n",
      "iteration: 9 of max_iter: 50, perplexity: 963.4734\n",
      "iteration: 10 of max_iter: 50, perplexity: 953.5496\n",
      "iteration: 11 of max_iter: 50, perplexity: 946.3539\n",
      "iteration: 12 of max_iter: 50, perplexity: 940.9961\n",
      "iteration: 13 of max_iter: 50, perplexity: 936.3878\n",
      "iteration: 14 of max_iter: 50, perplexity: 932.7422\n",
      "iteration: 15 of max_iter: 50, perplexity: 929.4325\n",
      "iteration: 16 of max_iter: 50, perplexity: 926.5646\n",
      "iteration: 17 of max_iter: 50, perplexity: 923.9936\n",
      "iteration: 18 of max_iter: 50, perplexity: 921.9823\n",
      "iteration: 19 of max_iter: 50, perplexity: 919.9590\n",
      "iteration: 20 of max_iter: 50, perplexity: 918.1805\n",
      "iteration: 21 of max_iter: 50, perplexity: 916.6546\n",
      "iteration: 22 of max_iter: 50, perplexity: 915.1432\n",
      "iteration: 23 of max_iter: 50, perplexity: 913.6743\n",
      "iteration: 24 of max_iter: 50, perplexity: 912.3305\n",
      "iteration: 25 of max_iter: 50, perplexity: 911.2175\n",
      "iteration: 26 of max_iter: 50, perplexity: 910.2641\n",
      "iteration: 27 of max_iter: 50, perplexity: 909.4273\n",
      "iteration: 28 of max_iter: 50, perplexity: 908.5809\n",
      "iteration: 29 of max_iter: 50, perplexity: 907.7916\n",
      "iteration: 30 of max_iter: 50, perplexity: 907.3373\n",
      "iteration: 31 of max_iter: 50, perplexity: 906.7668\n",
      "iteration: 32 of max_iter: 50, perplexity: 906.3039\n",
      "iteration: 33 of max_iter: 50, perplexity: 905.9242\n",
      "iteration: 34 of max_iter: 50, perplexity: 905.5144\n",
      "iteration: 35 of max_iter: 50, perplexity: 905.0218\n",
      "iteration: 36 of max_iter: 50, perplexity: 904.7370\n",
      "iteration: 37 of max_iter: 50, perplexity: 904.4848\n",
      "iteration: 38 of max_iter: 50, perplexity: 904.1880\n",
      "iteration: 39 of max_iter: 50, perplexity: 903.9318\n",
      "iteration: 40 of max_iter: 50, perplexity: 903.7054\n",
      "iteration: 41 of max_iter: 50, perplexity: 903.5867\n",
      "iteration: 42 of max_iter: 50, perplexity: 903.4433\n",
      "iteration: 43 of max_iter: 50, perplexity: 903.3127\n",
      "iteration: 44 of max_iter: 50, perplexity: 903.1481\n",
      "iteration: 45 of max_iter: 50, perplexity: 903.0424\n",
      "iteration: 46 of max_iter: 50, perplexity: 902.8432\n",
      "iteration: 47 of max_iter: 50, perplexity: 902.7776\n"
     ]
    }
   ],
   "source": [
    "#LDA\n",
    "\n",
    "num_topics = 10\n",
    "\n",
    "lda = LatentDirichletAllocation(n_components=num_topics, learning_method='batch',\\\n",
    "                                max_iter=50,verbose=1,\n",
    "                                evaluate_every=1, n_jobs=1,\n",
    "                                random_state=0).fit(tf)"
   ]
  },
  {
   "cell_type": "code",
   "execution_count": 59,
   "metadata": {},
   "outputs": [
    {
     "name": "stdout",
     "output_type": "stream",
     "text": [
      "Topic 0:\n",
      "[('data', 238.04914718080886), ('array', 230.09992636579526), ('column', 227.30885401406698), ('values', 216.41437446019043), ('want', 213.56976571960246), ('like', 193.13962829710124), ('dataframe', 169.77165595976459), ('value', 145.12873137705856), ('time', 119.6454936262579), ('row', 117.15105214519295), ('trying', 113.57523791274224), ('rows', 103.76110825011349), ('columns', 102.9993083426771), ('numpy', 101.16074390389723), ('matrix', 90.099936144126204), ('using', 88.069103168762567), ('id', 87.915753110914153), ('python', 87.575507732915327), ('create', 85.626983282480637), ('pandas', 78.205384631313692)]\n",
      "\n",
      "\n",
      "Topic 1:\n",
      "[('code', 347.16201560976617), ('input', 284.92857551337318), ('string', 270.02040125786567), ('trying', 229.47342374384425), ('python', 192.51554465521011), ('number', 190.69114205885194), ('print', 190.37922828217384), ('function', 186.40704450195685), ('program', 173.37097376472536), ('want', 158.7142443932255), ('output', 117.89227439534463), ('error', 102.96577937687749), ('user', 102.01515850500779), ('use', 101.68980752997359), ('text', 101.53006904735288), ('know', 97.92642967786044), ('problem', 96.096130490393222), ('write', 95.575538715841702), ('enter', 93.759245389975973), ('example', 92.686945663442188)]\n",
      "\n",
      "\n",
      "Topic 2:\n",
      "[('using', 252.67635884321842), ('python', 185.11015950694227), ('server', 169.94444068233463), ('app', 161.53824011250779), ('flask', 128.09994948288767), ('database', 121.73661212812019), ('trying', 119.73654695154971), ('data', 119.13935528948063), ('application', 111.09993185306702), ('working', 107.86460083361619), ('api', 101.77505969787983), ('client', 91.099954256393659), ('code', 83.846861286758838), ('request', 58.405947904134848), ('want', 57.54942261459135), ('connect', 57.099943077998169), ('user', 56.786804792720233), ('problem', 52.613947793139317), ('socket', 51.099972738176113), ('make', 50.205760741055968)]\n",
      "\n",
      "\n",
      "Topic 3:\n",
      "[('using', 218.31081759602463), ('trying', 213.29596438281189), ('python', 209.19774135844858), ('code', 172.79154847432767), ('want', 156.1669010081236), ('url', 150.09992145067932), ('com', 146.66418495476299), ('https', 140.30330076871644), ('image', 138.40334502240358), ('page', 137.09991949983183), ('html', 127.0999356934219), ('website', 104.36253965491335), ('http', 101.94972851943328), ('data', 95.778351385120146), ('search', 92.099903998667287), ('use', 90.056073739892554), ('tried', 77.091823263034613), ('link', 73.033892640115326), ('www', 69.099956138053514), ('button', 67.341868104855038)]\n",
      "\n",
      "\n",
      "Topic 4:\n",
      "[('file', 993.09989274735221), ('csv', 252.70152267421153), ('files', 238.49469946129867), ('text', 188.72625568781388), ('data', 124.02424372628158), ('json', 117.28691697928969), ('11', 116.09990860314909), ('10', 112.47883408222438), ('txt', 111.09993307551004), ('read', 107.16661220410859), ('like', 99.509773489433954), ('directory', 98.099897880768751), ('open', 94.346023193707254), ('python', 88.857680820820065), ('00', 83.099979091347606), ('format', 79.087946179298669), ('following', 77.066152085970089), ('want', 74.402888563512775), ('folder', 74.099904940539744), ('12', 72.416110053873751)]\n",
      "\n",
      "\n",
      "Topic 5:\n",
      "[('import', 967.19958146637271), ('pandas', 199.9945619818366), ('code', 189.83643840671564), ('df', 172.71954536262183), ('pd', 164.09997243199331), ('dataframe', 141.47423811435988), ('np', 137.83646948604547), ('data', 116.63017731823868), ('following', 104.52266075249182), ('numpy', 94.039185131206224), ('columns', 76.200630319068949), ('using', 72.811933042164924), ('time', 72.605482456763042), ('os', 70.737898926898453), ('datetime', 61.901235052303882), ('cv2', 59.09994383468787), ('path', 54.479622824950489), ('trying', 53.032751836754358), ('filename', 52.099882851725766), ('print', 46.955609787410154)]\n",
      "\n",
      "\n",
      "Topic 6:\n",
      "[('model', 264.09996212830799), ('models', 152.09996872335685), ('using', 134.25914483505127), ('tensorflow', 122.0999425897319), ('images', 117.35973035994662), ('data', 112.15527761440553), ('class', 110.00868786128449), ('image', 101.56798613301363), ('dataset', 96.734357910568363), ('like', 95.452071804015546), ('table', 93.46262811543896), ('tf', 92.099961020161103), ('trying', 87.706311089212747), ('use', 69.845860826377304), ('user', 68.752219699625542), ('keras', 66.099972598359486), ('train', 62.099960328094305), ('want', 59.85725401173115), ('shape', 58.661368771343561), ('network', 50.602687971500544)]\n",
      "\n",
      "\n",
      "Topic 7:\n",
      "[('def', 449.16616452089204), ('class', 314.72611155520673), ('self', 282.09997513921041), ('return', 177.45579490299406), ('py', 167.15416279275919), ('function', 151.80078869196859), ('print', 129.45721753564561), ('code', 122.38160718758718), ('object', 121.77641618072848), ('request', 109.79397595552413), ('__init__', 90.099974897743266), ('foo', 80.099962232073153), ('test', 77.934076848176289), ('like', 77.136199119740056), ('main', 75.099905644992603), ('method', 65.826350226919985), ('attribute', 55.099915036805854), ('form', 51.733454676914967), ('pass', 48.897464431044824), ('str', 47.653042577664927)]\n",
      "\n",
      "\n",
      "Topic 8:\n",
      "[('list', 694.09992068125371), ('want', 178.88754597285777), ('dictionary', 154.09993517638603), ('like', 140.5939812855311), ('trying', 133.57043883742355), ('code', 125.76917074314851), ('plot', 94.099934892277204), ('lists', 90.099950663000797), ('python', 84.752461319288031), ('matplotlib', 84.099907858303879), ('range', 77.701294972195882), ('value', 75.614564921208057), ('using', 72.508622480014964), ('print', 70.60786230125909), ('items', 67.099914825460374), ('names', 64.807729122828619), ('values', 64.785530129830292), ('loop', 64.561198409009918), ('plt', 60.099953488753918), ('end', 59.094724457369281)]\n",
      "\n",
      "\n",
      "Topic 9:\n",
      "[('python', 872.71635580500424), ('error', 420.06948729875535), ('using', 306.47946492220365), ('run', 241.36968388195194), ('trying', 231.28327911116816), ('py', 221.04574664253778), ('script', 184.35212488727734), ('django', 183.51163617857432), ('install', 182.09997679912237), ('import', 174.00032285524838), ('code', 159.91229032882524), ('running', 156.75505491931048), ('getting', 153.53720625947477), ('use', 141.35560532881553), ('project', 138.95224516126197), ('following', 135.18207293817878), ('installed', 134.09996826530704), ('new', 122.96181456029277), ('command', 116.51054469538816), ('ve', 112.0804968225725)]\n",
      "\n",
      "\n"
     ]
    }
   ],
   "source": [
    "num_top_words=20\n",
    "\n",
    "for topic_idx, topic in enumerate(lda.components_):\n",
    "    print (\"Topic %d:\" % (topic_idx))\n",
    "    # print out top 20 words per topic \n",
    "    words=[(tf_feature_names[i],topic[i]) for i in topic.argsort()[::-1][0:num_top_words]]\n",
    "    print(words)\n",
    "    print(\"\\n\")"
   ]
  },
  {
   "cell_type": "code",
   "execution_count": 60,
   "metadata": {
    "collapsed": true
   },
   "outputs": [],
   "source": [
    "# Generate topic assignment of each document\n",
    "topic_assign=lda.transform(tf)\n",
    "\n",
    "clusters=topic_assign.argmax(axis=1)\n",
    "# or argsort is also fine"
   ]
  },
  {
   "cell_type": "code",
   "execution_count": 61,
   "metadata": {},
   "outputs": [
    {
     "data": {
      "text/plain": [
       "<matplotlib.axes._subplots.AxesSubplot at 0x2551c1129b0>"
      ]
     },
     "execution_count": 61,
     "metadata": {},
     "output_type": "execute_result"
    },
    {
     "data": {
      "image/png": "[encoded data removed]",
      "text/plain": [
       "<matplotlib.figure.Figure at 0x2551c32d4a8>"
      ]
     },
     "metadata": {},
     "output_type": "display_data"
    }
   ],
   "source": [
    "sns.set(style=\"darkgrid\")\n",
    "sns.countplot(x=clusters)"
   ]
  },
  {
   "cell_type": "code",
   "execution_count": 62,
   "metadata": {},
   "outputs": [
    {
     "name": "stdout",
     "output_type": "stream",
     "text": [
      "Silhouette Co-efficient for Hierarchial Clustering\n",
      "-0.130820280743\n"
     ]
    }
   ],
   "source": [
    "print('Silhouette Co-efficient for LDA')\n",
    "print(metrics.silhouette_score(data2D, clusters))"
   ]
  },
  {
   "cell_type": "code",
   "execution_count": 63,
   "metadata": {},
   "outputs": [
    {
     "name": "stdout",
     "output_type": "stream",
     "text": [
      "Calinski-Harabaz Index for LDA\n",
      "312.513637043\n"
     ]
    }
   ],
   "source": [
    "print('Calinski-Harabaz Index for LDA')\n",
    "print(metrics.calinski_harabaz_score(data2D, clusters))"
   ]
  },
  {
   "cell_type": "code",
   "execution_count": 64,
   "metadata": {
    "collapsed": true
   },
   "outputs": [],
   "source": [
    "# Through Internal Evaluation, both the Co-efficient value for Hierarchial Clustering is quite low.\n",
    "# But the clusters formed are quite good."
   ]
  },
  {
   "cell_type": "code",
   "execution_count": 65,
   "metadata": {
    "collapsed": true
   },
   "outputs": [],
   "source": [
    "# External Evaluation"
   ]
  },
  {
   "cell_type": "code",
   "execution_count": 66,
   "metadata": {
    "collapsed": true
   },
   "outputs": [],
   "source": [
    "tf_vectorizer = CountVectorizer(min_df=5, stop_words='english')\n",
    "tf = tf_vectorizer.fit_transform(text1)\n",
    "\n",
    "tf_feature_names = tf_vectorizer.get_feature_names()"
   ]
  },
  {
   "cell_type": "code",
   "execution_count": 67,
   "metadata": {},
   "outputs": [
    {
     "name": "stdout",
     "output_type": "stream",
     "text": [
      "iteration: 1 of max_iter: 50, perplexity: 569.8423\n",
      "iteration: 2 of max_iter: 50, perplexity: 523.2481\n",
      "iteration: 3 of max_iter: 50, perplexity: 495.2135\n",
      "iteration: 4 of max_iter: 50, perplexity: 478.4297\n",
      "iteration: 5 of max_iter: 50, perplexity: 467.5348\n",
      "iteration: 6 of max_iter: 50, perplexity: 459.2701\n",
      "iteration: 7 of max_iter: 50, perplexity: 453.0113\n",
      "iteration: 8 of max_iter: 50, perplexity: 447.6762\n",
      "iteration: 9 of max_iter: 50, perplexity: 442.6869\n",
      "iteration: 10 of max_iter: 50, perplexity: 438.1928\n",
      "iteration: 11 of max_iter: 50, perplexity: 435.6378\n",
      "iteration: 12 of max_iter: 50, perplexity: 433.5272\n",
      "iteration: 13 of max_iter: 50, perplexity: 431.4718\n",
      "iteration: 14 of max_iter: 50, perplexity: 429.7839\n",
      "iteration: 15 of max_iter: 50, perplexity: 428.4748\n",
      "iteration: 16 of max_iter: 50, perplexity: 427.6282\n",
      "iteration: 17 of max_iter: 50, perplexity: 426.9317\n",
      "iteration: 18 of max_iter: 50, perplexity: 426.3018\n",
      "iteration: 19 of max_iter: 50, perplexity: 425.6146\n",
      "iteration: 20 of max_iter: 50, perplexity: 425.1461\n",
      "iteration: 21 of max_iter: 50, perplexity: 424.8318\n",
      "iteration: 22 of max_iter: 50, perplexity: 424.6201\n",
      "iteration: 23 of max_iter: 50, perplexity: 424.3744\n",
      "iteration: 24 of max_iter: 50, perplexity: 424.2095\n",
      "iteration: 25 of max_iter: 50, perplexity: 424.1360\n"
     ]
    }
   ],
   "source": [
    "#LDA\n",
    "\n",
    "num_topics = 6\n",
    "\n",
    "lda = LatentDirichletAllocation(n_components=num_topics, learning_method='batch',\\\n",
    "                                max_iter=50,verbose=1,\n",
    "                                evaluate_every=1, n_jobs=1,\n",
    "                                random_state=0).fit(tf)"
   ]
  },
  {
   "cell_type": "code",
   "execution_count": 68,
   "metadata": {},
   "outputs": [
    {
     "data": {
      "text/html": [
       "<div>\n",
       "<style scoped>\n",
       "    .dataframe tbody tr th:only-of-type {\n",
       "        vertical-align: middle;\n",
       "    }\n",
       "\n",
       "    .dataframe tbody tr th {\n",
       "        vertical-align: top;\n",
       "    }\n",
       "\n",
       "    .dataframe thead th {\n",
       "        text-align: right;\n",
       "    }\n",
       "</style>\n",
       "<table border=\"1\" class=\"dataframe\">\n",
       "  <thead>\n",
       "    <tr style=\"text-align: right;\">\n",
       "      <th>actual_class</th>\n",
       "      <th>Class</th>\n",
       "      <th>Data Structure</th>\n",
       "      <th>File Handling</th>\n",
       "      <th>Machine Learning</th>\n",
       "      <th>Python</th>\n",
       "      <th>Web Scraping</th>\n",
       "    </tr>\n",
       "    <tr>\n",
       "      <th>cluster</th>\n",
       "      <th></th>\n",
       "      <th></th>\n",
       "      <th></th>\n",
       "      <th></th>\n",
       "      <th></th>\n",
       "      <th></th>\n",
       "    </tr>\n",
       "  </thead>\n",
       "  <tbody>\n",
       "    <tr>\n",
       "      <th>0</th>\n",
       "      <td>103</td>\n",
       "      <td>10</td>\n",
       "      <td>5</td>\n",
       "      <td>5</td>\n",
       "      <td>2</td>\n",
       "      <td>3</td>\n",
       "    </tr>\n",
       "    <tr>\n",
       "      <th>1</th>\n",
       "      <td>1</td>\n",
       "      <td>3</td>\n",
       "      <td>2</td>\n",
       "      <td>8</td>\n",
       "      <td>19</td>\n",
       "      <td>145</td>\n",
       "    </tr>\n",
       "    <tr>\n",
       "      <th>2</th>\n",
       "      <td>0</td>\n",
       "      <td>2</td>\n",
       "      <td>124</td>\n",
       "      <td>5</td>\n",
       "      <td>3</td>\n",
       "      <td>12</td>\n",
       "    </tr>\n",
       "    <tr>\n",
       "      <th>3</th>\n",
       "      <td>3</td>\n",
       "      <td>11</td>\n",
       "      <td>1</td>\n",
       "      <td>157</td>\n",
       "      <td>7</td>\n",
       "      <td>4</td>\n",
       "    </tr>\n",
       "    <tr>\n",
       "      <th>4</th>\n",
       "      <td>1</td>\n",
       "      <td>5</td>\n",
       "      <td>10</td>\n",
       "      <td>6</td>\n",
       "      <td>209</td>\n",
       "      <td>9</td>\n",
       "    </tr>\n",
       "    <tr>\n",
       "      <th>5</th>\n",
       "      <td>2</td>\n",
       "      <td>105</td>\n",
       "      <td>2</td>\n",
       "      <td>10</td>\n",
       "      <td>2</td>\n",
       "      <td>4</td>\n",
       "    </tr>\n",
       "  </tbody>\n",
       "</table>\n",
       "</div>"
      ],
      "text/plain": [
       "actual_class  Class  Data Structure  File Handling  Machine Learning  Python  \\\n",
       "cluster                                                                        \n",
       "0               103              10              5                 5       2   \n",
       "1                 1               3              2                 8      19   \n",
       "2                 0               2            124                 5       3   \n",
       "3                 3              11              1               157       7   \n",
       "4                 1               5             10                 6     209   \n",
       "5                 2             105              2                10       2   \n",
       "\n",
       "actual_class  Web Scraping  \n",
       "cluster                     \n",
       "0                        3  \n",
       "1                      145  \n",
       "2                       12  \n",
       "3                        4  \n",
       "4                        9  \n",
       "5                        4  "
      ]
     },
     "execution_count": 68,
     "metadata": {},
     "output_type": "execute_result"
    }
   ],
   "source": [
    "# Generate topic assignment of each document\n",
    "topic_assign=lda.transform(tf)\n",
    "\n",
    "clusters=topic_assign.argmax(axis=1)\n",
    "# or argsort is also fine\n",
    "\n",
    "import pandas as pd\n",
    "\n",
    "df_lda=pd.DataFrame(list(zip(target1, clusters)), \\\n",
    "                columns=['actual_class','cluster'])\n",
    "df_lda.head()\n",
    "pd.crosstab( index=df_lda.cluster, columns=df_lda.actual_class)"
   ]
  },
  {
   "cell_type": "markdown",
   "metadata": {},
   "source": [
    "# Classification Report"
   ]
  },
  {
   "cell_type": "code",
   "execution_count": 70,
   "metadata": {},
   "outputs": [
    {
     "name": "stdout",
     "output_type": "stream",
     "text": [
      "                  precision    recall  f1-score   support\n",
      "\n",
      "           Class       0.80      0.94      0.87       110\n",
      "  Data Structure       0.84      0.77      0.80       136\n",
      "   File Handling       0.85      0.86      0.86       144\n",
      "Machine Learning       0.86      0.82      0.84       191\n",
      "          Python       0.87      0.86      0.87       242\n",
      "    Web Scraping       0.81      0.82      0.82       177\n",
      "\n",
      "     avg / total       0.84      0.84      0.84      1000\n",
      "\n"
     ]
    }
   ],
   "source": [
    "cluster_dict={0:'Class', 1:\"Web Scraping\",\\\n",
    "              2:'File Handling', 3:\"Machine Learning\",\\\n",
    "              4:\"Python\",5:'Data Structure'}\n",
    "\n",
    "# Assign true class to cluster\n",
    "# Some small clusters cannot be mapped to any true class\n",
    "predicted_target=[cluster_dict[i] for i in clusters ]\n",
    "\n",
    "                     \n",
    "print(metrics.classification_report\\\n",
    "      (target1, predicted_target))"
   ]
  },
  {
   "cell_type": "code",
   "execution_count": 71,
   "metadata": {},
   "outputs": [
    {
     "data": {
      "text/plain": [
       "<matplotlib.axes._subplots.AxesSubplot at 0x25514b2cac8>"
      ]
     },
     "execution_count": 71,
     "metadata": {},
     "output_type": "execute_result"
    },
    {
     "data": {
      "image/png": "[encoded data removed]",
      "text/plain": [
       "<matplotlib.figure.Figure at 0x2551b8d3fd0>"
      ]
     },
     "metadata": {},
     "output_type": "display_data"
    }
   ],
   "source": [
    "sns.set(style=\"darkgrid\")\n",
    "sns.countplot(x='cluster',data=df_lda)"
   ]
  },
  {
   "cell_type": "markdown",
   "metadata": {},
   "source": [
    "# Analysis\n",
    "With respect to the Internal-External evaluation result,\n",
    "From Internal Evaluation, the k-Mean model has the best value for both the  co-efficient.\n",
    "But from External Evaluation, the LDA model is the most efficient approach of clustering data.\n",
    "Since External Evaluation is much more realistic and efficient in many real-world scenarios as it does not refer to any assumed references from outside which is not always feasible to obtain.\n",
    "We would select LDA model for Clustering.\n"
   ]
  }
 ],
 "metadata": {
  "kernelspec": {
   "display_name": "Python 3",
   "language": "python",
   "name": "python3"
  },
  "language_info": {
   "codemirror_mode": {
    "name": "ipython",
    "version": 3
   },
   "file_extension": ".py",
   "mimetype": "text/x-python",
   "name": "python",
   "nbconvert_exporter": "python",
   "pygments_lexer": "ipython3",
   "version": "3.6.1"
  }
 },
 "nbformat": 4,
 "nbformat_minor": 2
}
