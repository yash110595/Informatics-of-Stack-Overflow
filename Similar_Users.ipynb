{
 "cells": [
  {
   "cell_type": "code",
   "execution_count": 41,
   "metadata": {
    "scrolled": true
   },
   "outputs": [],
   "source": [
    "#importing libraries\n",
    "import numpy as np\n",
    "import pandas as pd\n",
    "import sklearn\n",
    "import matplotlib.pyplot as plt\n",
    "%matplotlib inline\n",
    "from sklearn.cross_validation import train_test_split\n",
    "from wordcloud import WordCloud,STOPWORDS\n",
    "from html.parser import HTMLParser\n",
    "import re\n",
    "import nltk\n",
    "from nltk.corpus import stopwords"
   ]
  },
  {
   "cell_type": "code",
   "execution_count": 42,
   "metadata": {
    "scrolled": true
   },
   "outputs": [],
   "source": [
    "Answers = pd.read_excel('/Users/hardeepsingh/Desktop/IS/Sem-2/660/project/Final/Stack_Overflow_Full_Answers.xlsx')"
   ]
  },
  {
   "cell_type": "code",
   "execution_count": 43,
   "metadata": {
    "scrolled": true
   },
   "outputs": [],
   "source": [
    "#Selecting unique users and retheir reputation score\n",
    "User_id_inA= Answers['User'].unique()\n",
    "All_User_id_inA= Answers['User']\n",
    "Rep_score=Answers['Reputation Score']"
   ]
  },
  {
   "cell_type": "code",
   "execution_count": 52,
   "metadata": {
    "scrolled": true
   },
   "outputs": [
    {
     "data": {
      "text/html": [
       "<div>\n",
       "<style scoped>\n",
       "    .dataframe tbody tr th:only-of-type {\n",
       "        vertical-align: middle;\n",
       "    }\n",
       "\n",
       "    .dataframe tbody tr th {\n",
       "        vertical-align: top;\n",
       "    }\n",
       "\n",
       "    .dataframe thead th {\n",
       "        text-align: right;\n",
       "    }\n",
       "</style>\n",
       "<table border=\"1\" class=\"dataframe\">\n",
       "  <thead>\n",
       "    <tr style=\"text-align: right;\">\n",
       "      <th></th>\n",
       "      <th>Question Id</th>\n",
       "      <th>Answer</th>\n",
       "      <th>User</th>\n",
       "      <th>Reputation Score</th>\n",
       "      <th>Gold Badge Count</th>\n",
       "      <th>Silver Badge Count</th>\n",
       "      <th>Bronze Badge Count</th>\n",
       "      <th>Cluster</th>\n",
       "      <th>Frequency</th>\n",
       "    </tr>\n",
       "  </thead>\n",
       "  <tbody>\n",
       "    <tr>\n",
       "      <th>0</th>\n",
       "      <td>49369729</td>\n",
       "      <td>I've used ReadTheDocs for many of my own proje...</td>\n",
       "      <td>Pal Kerecsenyi</td>\n",
       "      <td>28.0</td>\n",
       "      <td>NaN</td>\n",
       "      <td>NaN</td>\n",
       "      <td>6.0</td>\n",
       "      <td>2.0</td>\n",
       "      <td>1</td>\n",
       "    </tr>\n",
       "    <tr>\n",
       "      <th>1</th>\n",
       "      <td>49369729</td>\n",
       "      <td>For API docs you can use swagger or apidoc.</td>\n",
       "      <td>bharath</td>\n",
       "      <td>318.0</td>\n",
       "      <td>NaN</td>\n",
       "      <td>1.0</td>\n",
       "      <td>1.0</td>\n",
       "      <td>2.0</td>\n",
       "      <td>1</td>\n",
       "    </tr>\n",
       "    <tr>\n",
       "      <th>2</th>\n",
       "      <td>49369657</td>\n",
       "      <td>A purrr option:</td>\n",
       "      <td>alistaire</td>\n",
       "      <td>27000.0</td>\n",
       "      <td>4.0</td>\n",
       "      <td>4.0</td>\n",
       "      <td>4.0</td>\n",
       "      <td>1.0</td>\n",
       "      <td>2</td>\n",
       "    </tr>\n",
       "    <tr>\n",
       "      <th>3</th>\n",
       "      <td>49369657</td>\n",
       "      <td>Working example:</td>\n",
       "      <td>Ramon Diogo</td>\n",
       "      <td>218.0</td>\n",
       "      <td>NaN</td>\n",
       "      <td>3.0</td>\n",
       "      <td>3.0</td>\n",
       "      <td>1.0</td>\n",
       "      <td>1</td>\n",
       "    </tr>\n",
       "    <tr>\n",
       "      <th>4</th>\n",
       "      <td>49369594</td>\n",
       "      <td>Given your datastructure and a list of values ...</td>\n",
       "      <td>Ajax1234</td>\n",
       "      <td>27200.0</td>\n",
       "      <td>4.0</td>\n",
       "      <td>4.0</td>\n",
       "      <td>4.0</td>\n",
       "      <td>8.0</td>\n",
       "      <td>7</td>\n",
       "    </tr>\n",
       "  </tbody>\n",
       "</table>\n",
       "</div>"
      ],
      "text/plain": [
       "   Question Id                                             Answer  \\\n",
       "0     49369729  I've used ReadTheDocs for many of my own proje...   \n",
       "1     49369729        For API docs you can use swagger or apidoc.   \n",
       "2     49369657                                    A purrr option:   \n",
       "3     49369657                                   Working example:   \n",
       "4     49369594  Given your datastructure and a list of values ...   \n",
       "\n",
       "             User  Reputation Score  Gold Badge Count  Silver Badge Count  \\\n",
       "0  Pal Kerecsenyi              28.0               NaN                 NaN   \n",
       "1         bharath             318.0               NaN                 1.0   \n",
       "2       alistaire           27000.0               4.0                 4.0   \n",
       "3     Ramon Diogo             218.0               NaN                 3.0   \n",
       "4        Ajax1234           27200.0               4.0                 4.0   \n",
       "\n",
       "   Bronze Badge Count  Cluster  Frequency  \n",
       "0                 6.0      2.0          1  \n",
       "1                 1.0      2.0          1  \n",
       "2                 4.0      1.0          2  \n",
       "3                 3.0      1.0          1  \n",
       "4                 4.0      8.0          7  "
      ]
     },
     "execution_count": 52,
     "metadata": {},
     "output_type": "execute_result"
    }
   ],
   "source": [
    "Answers.head()"
   ]
  },
  {
   "cell_type": "code",
   "execution_count": 45,
   "metadata": {
    "scrolled": true
   },
   "outputs": [],
   "source": [
    "users=pd.DataFrame({'idUser':list(All_User_id_inA)})\n",
    "Answers['Frequency']=users['idUser'].apply(lambda x:len(Answers[Answers['User']==x]['Answer']))"
   ]
  },
  {
   "cell_type": "code",
   "execution_count": 46,
   "metadata": {
    "scrolled": true
   },
   "outputs": [],
   "source": [
    "#Striping and cleaning answers that will help to get better evaluation.\n",
    "class MLStripper(HTMLParser):\n",
    "    def __init__(self):\n",
    "        self.reset()\n",
    "        self.strict = False\n",
    "        self.convert_charrefs= True\n",
    "        self.fed = []\n",
    "    def handle_data(self, d):\n",
    "        self.fed.append(d)\n",
    "    def get_data(self):\n",
    "        return ''.join(self.fed)\n",
    "\n",
    "def strip_tags(html):\n",
    "    s = MLStripper()\n",
    "    s.feed(html)\n",
    "    return s.get_data()\n",
    "\n",
    "def clean(text):\n",
    "    removed_html=strip_tags(text)\n",
    "    letters_only = re.sub(\"[^a-zA-Z]\", \" \", removed_html) \n",
    "    words = letters_only.lower().split()                             \n",
    "    stops = set(stopwords.words(\"english\"))                  \n",
    "    meaningful_words = [w for w in words if not w in stops] \n",
    "    return(meaningful_words)\n",
    "\n",
    "A_data=Answers[['User','Answer','Reputation Score']]\n",
    "Answer=A_data[A_data['User'].isin(User_id_inA)]\n",
    "\n",
    "Answer['Non_html_body']=Answer['Answer'].apply(lambda x:strip_tags(str(x)))\n",
    "\n"
   ]
  },
  {
   "cell_type": "code",
   "execution_count": 47,
   "metadata": {
    "scrolled": true
   },
   "outputs": [],
   "source": [
    "#data frame with each row containing all answers the user\n",
    "Answer['A_words']=Answer['Answer'].apply(lambda x:clean(str(x)))\n",
    "\n",
    "#DataFrame containing answers\n",
    "User_id=User_id_inA\n",
    "Answer_corpus=[]\n",
    "for id in User_id_inA:\n",
    "    A_frame=Answer[Answer['User']==id].reset_index(drop=True)\n",
    "    \n",
    "    for j in range(len(A_frame['User'])):\n",
    "        if j==0:\n",
    "            tmp2=A_frame['A_words'][j]\n",
    "        else:\n",
    "            tmp2=tmp2+A_frame['A_words'][j]\n",
    "    Answer_corpus.append(tmp2)\n",
    "\n",
    "Answer_C=[]\n",
    "for i in range(len(User_id)):\n",
    "    tmp2=\" \".join(Answer_corpus[i])\n",
    "    Answer_C.append(tmp2)\n",
    "\n",
    "Final_frame=pd.DataFrame({'User_id':User_id,'Answer':Answer_C,})"
   ]
  },
  {
   "cell_type": "code",
   "execution_count": 48,
   "metadata": {
    "scrolled": true
   },
   "outputs": [],
   "source": [
    "#tfidf\n",
    "from sklearn.feature_extraction.text import TfidfVectorizer\n",
    "tfidf=TfidfVectorizer()\n",
    "A_features=tfidf.fit_transform(Answer_C)"
   ]
  },
  {
   "cell_type": "code",
   "execution_count": 49,
   "metadata": {
    "scrolled": true
   },
   "outputs": [],
   "source": [
    "#KNN\n",
    "from sklearn.neighbors import NearestNeighbors\n",
    "knn=NearestNeighbors(n_neighbors=30,algorithm='brute',metric='cosine')\n",
    "Answer_fit=knn.fit(A_features)"
   ]
  },
  {
   "cell_type": "code",
   "execution_count": 50,
   "metadata": {
    "scrolled": false
   },
   "outputs": [
    {
     "name": "stdout",
     "output_type": "stream",
     "text": [
      "------------------------------------------------------------------------------------------------------\n",
      "User's answer is always featured by words below\n"
     ]
    },
    {
     "data": {
      "image/png": "[encoded data removed]",
      "text/plain": [
       "<Figure size 576x576 with 1 Axes>"
      ]
     },
     "metadata": {},
     "output_type": "display_data"
    },
    {
     "name": "stdout",
     "output_type": "stream",
     "text": [
      "------------------------------------------------------------------------------------------------------\n",
      "The top five users that always provide similar answers are: Steve Benedict K. EB88 sancho.s Einstein\n",
      "------------------------------------------------------------------------------------------------------\n",
      "Example: Answer from user:\n",
      "Assuming the following:\n",
      "------------------------------------------------------------------------------------------------------\n",
      "Example: Answer from a similar user:\n",
      "This is the library you're looking for:\n",
      "https://docs.python.org/2/howto/curses.html\n",
      "------------------------------------------------------------------------------------------------------\n",
      "User's answer is always featured by words below\n"
     ]
    },
    {
     "data": {
      "image/png": "[encoded data removed]",
      "text/plain": [
       "<Figure size 576x576 with 1 Axes>"
      ]
     },
     "metadata": {},
     "output_type": "display_data"
    },
    {
     "name": "stdout",
     "output_type": "stream",
     "text": [
      "------------------------------------------------------------------------------------------------------\n",
      "The top five users that always provide similar answers are: Pop pgngp Joe Lazaro litepresence nasil122002\n",
      "------------------------------------------------------------------------------------------------------\n",
      "Example: Answer from user:\n",
      "Use nlargest instead of slicing, then reheapify the combined lists.\n",
      "------------------------------------------------------------------------------------------------------\n",
      "Example: Answer from a similar user:\n",
      "The idea is that state is a tuple.\n"
     ]
    }
   ],
   "source": [
    "#users share similar expertise. \n",
    "#This will to understand User's answer is always featured by what words, \n",
    "#users that always provide similar answers, example of answer posted by user and answers from a similar user.\n",
    "\n",
    "def Answer_f(user_id):\n",
    "    ###Find the corresponding features##\n",
    "    index=Final_frame[Final_frame['User_id']==user_id].index.tolist()\n",
    "    ### Word Cloud##\n",
    "    Answer_word=Answer_C[index[0]]\n",
    "    wordcloud = WordCloud(background_color='white',\n",
    "                      width=3000,\n",
    "                      height=2500\n",
    "                     ).generate(Answer_word)\n",
    "    Neighbors = Answer_fit.kneighbors(A_features[index[0]])[1].tolist()[0][1:]\n",
    "    Users=np.array(User_id)[Neighbors].tolist()\n",
    "    print('------------------------------------------------------------------------------------------------------')\n",
    "    print(\"User's answer is always featured by words below\")\n",
    "    plt.figure(1,figsize=(8,8))\n",
    "    plt.imshow(wordcloud)\n",
    "    plt.axis('off')\n",
    "    plt.show()\n",
    "    print('------------------------------------------------------------------------------------------------------')\n",
    "    print('The top five users that always provide similar answers are: '+str(Users[0])+' '+str(Users[1])+' '+str(Users[2])+' '+str(Users[3])+' '+str(Users[4]))\n",
    "    print('------------------------------------------------------------------------------------------------------')\n",
    "    User_answer=Answer[Answer['User']==user_id].reset_index(drop=True)['Non_html_body'][0]\n",
    "    print('Example: Answer from user:\\n'+User_answer)\n",
    "    print('------------------------------------------------------------------------------------------------------')\n",
    "    Answer2=Answer[Answer['User']==Users[0]].reset_index(drop=True)['Non_html_body'][0]\n",
    "    print('Example: Answer from a similar user:\\n'+Answer2)\n",
    "\n",
    "#passing username to check users share similar expertise\n",
    "Answer_f('Michael Robellard')\n",
    "Answer_f('chepner')"
   ]
  },
  {
   "cell_type": "code",
   "execution_count": 61,
   "metadata": {
    "scrolled": false
   },
   "outputs": [
    {
     "name": "stdout",
     "output_type": "stream",
     "text": [
      "Values for cluster: 0\n",
      "Users with highest number of answers \n",
      "     Question Id                                             Answer  \\\n",
      "47     49367296  Use DataFrame.duplicated() to check if your da...   \n",
      "85     49364969                    roll accepts an axis parameter:   \n",
      "19     49368882  You either have to set the inplace parameter o...   \n",
      "23     49368475  df_new is a transformation from my_big_hdfs_df...   \n",
      "41     49367586  So, when you read excel your first row will be...   \n",
      "\n",
      "               User  Reputation Score  Gold Badge Count  Silver Badge Count  \\\n",
      "47           Doodle             114.0               NaN                 NaN   \n",
      "85        cᴏʟᴅsᴘᴇᴇᴅ           82000.0              13.0                13.0   \n",
      "19            Surya              31.0               NaN                 NaN   \n",
      "23  Ramesh Maharjan           17700.0               2.0                 2.0   \n",
      "41             zipa           10100.0               2.0                 2.0   \n",
      "\n",
      "    Bronze Badge Count  Cluster  Frequency  \n",
      "47                 5.0      0.0        2.0  \n",
      "85                13.0      0.0        2.0  \n",
      "19                 6.0      0.0        1.0  \n",
      "23                 2.0      0.0        1.0  \n",
      "41                 2.0      0.0        1.0  \n",
      "------------------------------------------------------------------------------------------------------\n",
      "\n",
      "\n",
      "Users with highest Reputation Score \n",
      "      Question Id                                             Answer  \\\n",
      "902     48937457  PEMDAS is P, E, MD, AS; multiplication and div...   \n",
      "369     49132301  Use read_csv for create DataFrame, then groupb...   \n",
      "465     49124436  First filter by boolean indexing values with r...   \n",
      "981     48932059  Use groupby with lambda function for forward a...   \n",
      "80      49365432  Use nlargest instead of slicing, then reheapif...   \n",
      "\n",
      "                User  Reputation Score  Gold Badge Count  Silver Badge Count  \\\n",
      "902  Martijn Pieters          638000.0             108.0               108.0   \n",
      "369          jezrael          237000.0              18.0                18.0   \n",
      "465          jezrael          237000.0              18.0                18.0   \n",
      "981          jezrael          237000.0              18.0                18.0   \n",
      "80           chepner          209000.0              23.0                23.0   \n",
      "\n",
      "     Bronze Badge Count  Cluster  Frequency  \n",
      "902               108.0      0.0        NaN  \n",
      "369                18.0      0.0        NaN  \n",
      "465                18.0      0.0        NaN  \n",
      "981                18.0      0.0        NaN  \n",
      "80                 23.0      0.0        1.0  \n",
      "------------------------------------------------------------------------------------------------------\n",
      "\n",
      "\n",
      "\n",
      "\n",
      "\n",
      "\n",
      "\n",
      "\n",
      "Values for cluster: 1\n",
      "Users with highest number of answers \n",
      "     Question Id                                             Answer  \\\n",
      "32     49367942                                                NaN   \n",
      "2      49369657                                    A purrr option:   \n",
      "3      49369657                                   Working example:   \n",
      "6      49369548  In Python you cannot return assignments. And S...   \n",
      "7      49369548  The syntax error comes from this line, as you say   \n",
      "\n",
      "           User  Reputation Score  Gold Badge Count  Silver Badge Count  \\\n",
      "32  Zheka Koval             381.0               NaN                 1.0   \n",
      "2     alistaire           27000.0               4.0                 4.0   \n",
      "3   Ramon Diogo             218.0               NaN                 3.0   \n",
      "6      MSeifert           62200.0              17.0                17.0   \n",
      "7        kdopen            6215.0               7.0                 7.0   \n",
      "\n",
      "    Bronze Badge Count  Cluster  Frequency  \n",
      "32                 1.0      1.0        2.0  \n",
      "2                  4.0      1.0        1.0  \n",
      "3                  3.0      1.0        1.0  \n",
      "6                 17.0      1.0        1.0  \n",
      "7                  7.0      1.0        1.0  \n",
      "------------------------------------------------------------------------------------------------------\n",
      "\n",
      "\n",
      "Users with highest Reputation Score \n",
      "      Question Id                                             Answer  \\\n",
      "910     48936730  It doesn't appear to be (well) documented, but...   \n",
      "878     48938847   The ^ operator was already used for bitwise xor.   \n",
      "467     49031935  One way could be creating a set of trees that ...   \n",
      "295     49215525  For the specific example in your question, you...   \n",
      "275     49216532     The for loop already takes one line at a time    \n",
      "\n",
      "                  User  Reputation Score  Gold Badge Count  \\\n",
      "910            chepner          209000.0              23.0   \n",
      "878  Raymond Hettinger          117000.0              34.0   \n",
      "467           Kasramvd           70200.0               8.0   \n",
      "295           ekhumoro           70000.0              15.0   \n",
      "275        cricket_007           62600.0               7.0   \n",
      "\n",
      "     Silver Badge Count  Bronze Badge Count  Cluster  Frequency  \n",
      "910                23.0                23.0      1.0        NaN  \n",
      "878                34.0                34.0      1.0        NaN  \n",
      "467                 8.0                 8.0      1.0        NaN  \n",
      "295                15.0                15.0      1.0        NaN  \n",
      "275                 7.0                 7.0      1.0        NaN  \n",
      "------------------------------------------------------------------------------------------------------\n",
      "\n",
      "\n",
      "\n",
      "\n",
      "\n",
      "\n",
      "\n",
      "\n"
     ]
    },
    {
     "name": "stderr",
     "output_type": "stream",
     "text": [
      "/Users/hardeepsingh/anaconda/lib/python3.6/site-packages/ipykernel_launcher.py:13: SettingWithCopyWarning: \n",
      "A value is trying to be set on a copy of a slice from a DataFrame.\n",
      "Try using .loc[row_indexer,col_indexer] = value instead\n",
      "\n",
      "See the caveats in the documentation: http://pandas.pydata.org/pandas-docs/stable/indexing.html#indexing-view-versus-copy\n",
      "  del sys.path[0]\n"
     ]
    }
   ],
   "source": [
    "#Displaying top 10 unique users in each cluster based on their number of answers \n",
    "#also based on their reputation score\n",
    "out = Answers.groupby('Cluster')\n",
    "out.describe()\n",
    "df = pd.DataFrame()\n",
    "op = pd.DataFrame()\n",
    "count = 0\n",
    "while count < 2:#value can be changed to 10 to display top 5 values in all clusters\n",
    "    df = Answers.loc[Answers['Cluster'] == count]\n",
    "    print('Values for cluster:', count)\n",
    "    op = df['User'].unique()\n",
    "    usersx=pd.DataFrame({'idUser':list(op)})\n",
    "    df['Frequency']=usersx['idUser'].apply(lambda x:len(df[df['User']==x]['Answer']))\n",
    "    #Selecting top 5 Frequency in cluster\n",
    "    print(\"Users with highest number of answers \\n\",df.nlargest(5, 'Frequency'))\n",
    "    print('------------------------------------------------------------------------------------------------------')\n",
    "    print(\"\\n\")\n",
    "\n",
    "    #Selecting Top 5 Repustion score in cluster\n",
    "    print(\"Users with highest Reputation Score \\n\",df.nlargest(5,'Reputation Score'))\n",
    "    print('------------------------------------------------------------------------------------------------------')\n",
    "    print(\"\\n\")\n",
    "    print(\"\\n\")\n",
    "    print(\"\\n\")\n",
    "    print(\"\\n\")\n",
    "    count=count+1\n"
   ]
  },
  {
   "cell_type": "code",
   "execution_count": null,
   "metadata": {
    "scrolled": true
   },
   "outputs": [],
   "source": []
  }
 ],
 "metadata": {
  "kernelspec": {
   "display_name": "Python 3",
   "language": "python",
   "name": "python3"
  },
  "language_info": {
   "codemirror_mode": {
    "name": "ipython",
    "version": 3
   },
   "file_extension": ".py",
   "mimetype": "text/x-python",
   "name": "python",
   "nbconvert_exporter": "python",
   "pygments_lexer": "ipython3",
   "version": "3.6.5"
  }
 },
 "nbformat": 4,
 "nbformat_minor": 2
}
